{
  "nbformat": 4,
  "nbformat_minor": 0,
  "metadata": {
    "kernelspec": {
      "display_name": "Python 3",
      "language": "python",
      "name": "python3"
    },
    "language_info": {
      "codemirror_mode": {
        "name": "ipython",
        "version": 3
      },
      "file_extension": ".py",
      "mimetype": "text/x-python",
      "name": "python",
      "nbconvert_exporter": "python",
      "pygments_lexer": "ipython3",
      "version": "3.7.6"
    },
    "colab": {
      "name": "Копия блокнота \"006-dogs-vs-cats.ipynb\"",
      "provenance": [],
      "collapsed_sections": [],
      "toc_visible": true,
      "include_colab_link": true
    },
    "accelerator": "GPU"
  },
  "cells": [
    {
      "cell_type": "markdown",
      "metadata": {
        "id": "view-in-github",
        "colab_type": "text"
      },
      "source": [
        "<a href=\"https://colab.research.google.com/github/andreiklychev1/Netology-math/blob/master/dogs_vs_cats.ipynb\" target=\"_parent\"><img src=\"https://colab.research.google.com/assets/colab-badge.svg\" alt=\"Open In Colab\"/></a>"
      ]
    },
    {
      "cell_type": "markdown",
      "metadata": {
        "id": "l4MlyMneSYop"
      },
      "source": [
        "# Dogs vs Cats"
      ]
    },
    {
      "cell_type": "markdown",
      "metadata": {
        "id": "qX3fuxLgSYor"
      },
      "source": [
        "https://www.kaggle.com/c/dogs-vs-cats-redux-kernels-edition"
      ]
    },
    {
      "cell_type": "code",
      "metadata": {
        "colab": {
          "base_uri": "https://localhost:8080/"
        },
        "id": "ZYoIGg7AS6qj",
        "outputId": "2bc0ff9a-b01e-479d-9998-f0ab0418c544"
      },
      "source": [
        "!pip install pyunpack\r\n",
        "!pip install patool"
      ],
      "execution_count": 2,
      "outputs": [
        {
          "output_type": "stream",
          "text": [
            "Requirement already satisfied: pyunpack in /usr/local/lib/python3.7/dist-packages (0.2.2)\n",
            "Requirement already satisfied: entrypoint2 in /usr/local/lib/python3.7/dist-packages (from pyunpack) (0.2.3)\n",
            "Requirement already satisfied: easyprocess in /usr/local/lib/python3.7/dist-packages (from pyunpack) (0.3)\n",
            "Requirement already satisfied: argparse in /usr/local/lib/python3.7/dist-packages (from entrypoint2->pyunpack) (1.4.0)\n",
            "Requirement already satisfied: patool in /usr/local/lib/python3.7/dist-packages (1.12)\n"
          ],
          "name": "stdout"
        }
      ]
    },
    {
      "cell_type": "code",
      "metadata": {
        "id": "cdllrbHYSYos",
        "colab": {
          "base_uri": "https://localhost:8080/"
        },
        "outputId": "d1af6e5e-00f6-42b8-b5a1-30cb81037cb5"
      },
      "source": [
        "import cv2\n",
        "import numpy as np\n",
        "import tensorflow as tf\n",
        "from tensorflow.keras.applications import vgg16\n",
        "from keras.preprocessing.image import ImageDataGenerator\n",
        "from keras.preprocessing.image import img_to_array\n",
        "from keras.preprocessing.image import load_img\n",
        "\n",
        "from google.colab import drive\n",
        "from google.colab import files\n",
        "\n",
        "drive.mount('/content/drive')\n",
        "\n",
        "from pyunpack import Archive\n",
        "\n",
        "# print(tf.__version__)\n",
        "# print(tf.executing_eagerly())"
      ],
      "execution_count": 3,
      "outputs": [
        {
          "output_type": "stream",
          "text": [
            "Mounted at /content/drive\n"
          ],
          "name": "stdout"
        }
      ]
    },
    {
      "cell_type": "markdown",
      "metadata": {
        "id": "AwYOxtJLSYot"
      },
      "source": [
        "## Функции загрузки данных"
      ]
    },
    {
      "cell_type": "code",
      "metadata": {
        "id": "vDnA7hlxTIGr"
      },
      "source": [
        "Archive('/content/drive/MyDrive/test.zip').extractall('test')\r\n",
        "Archive('/content/drive/MyDrive/train.zip').extractall('train')"
      ],
      "execution_count": 4,
      "outputs": []
    },
    {
      "cell_type": "code",
      "metadata": {
        "id": "by87i_a4Me9t"
      },
      "source": [
        "# IMG_SIZE = (224, 224)\r\n",
        "\r\n",
        "# t = train_files[0]\r\n",
        "# img = cv2.imread(t)[..., ::-1]\r\n",
        "\r\n",
        "# # datagen = ImageDataGenerator(width_shift_range=[-200,200])\r\n",
        "\r\n",
        "\r\n",
        "# t = load_img(train_files[0])\r\n",
        "# t = img_to_array(t)[..., ::-1]\r\n",
        "# img = cv2.resize(t, IMG_SIZE)\r\n",
        "\r\n",
        "# samples = np.expand_dims(t, 0)\r\n",
        "# it = datagen.flow(samples, batch_size=1)"
      ],
      "execution_count": null,
      "outputs": []
    },
    {
      "cell_type": "code",
      "metadata": {
        "id": "6_PVoTkpj1aP"
      },
      "source": [
        "# for i in range(9):\r\n",
        "# \t# define subplot\r\n",
        "# \tplt.subplot(330 + 1 + i)\r\n",
        "# \t# generate batch of images\r\n",
        "# \tbatch = it.next()\r\n",
        "# \t# convert to unsigned integers for viewing\r\n",
        "# \timage = batch[0].astype('uint8')\r\n",
        "# \t# plot raw pixel data\r\n",
        "# \tplt.imshow(image)"
      ],
      "execution_count": null,
      "outputs": []
    },
    {
      "cell_type": "code",
      "metadata": {
        "id": "ZnQ3ewb_67YM"
      },
      "source": [
        "from glob import glob\r\n",
        "import pandas as pd\r\n",
        "\r\n",
        "train_files = glob('train/train/*.jpg')\r\n",
        "test_files = glob('test/test/*.jpg')\r\n",
        "\r\n",
        "train_files = [x.split('/')[2] for x in train_files]\r\n",
        "test_files = [x.split('/')[2] for x in test_files]\r\n",
        "\r\n",
        "y = ['1' if os.path.basename(_).startswith('dog') else '0' for _ in train_files]\r\n",
        "y1 = ['1' if os.path.basename(_).startswith('dog') else \"0\" for _ in test_files]\r\n",
        "\r\n",
        "data_train = pd.DataFrame({'path': train_files, 'class': y})\r\n",
        "data_test = pd.DataFrame({'path': test_files, 'class': y1})\r\n",
        "\r\n",
        "\r\n"
      ],
      "execution_count": 23,
      "outputs": []
    },
    {
      "cell_type": "code",
      "metadata": {
        "colab": {
          "base_uri": "https://localhost:8080/",
          "height": 419
        },
        "id": "GGpuPIOM_k4g",
        "outputId": "157102cf-44d9-4010-ad77-0ae74aa73dc1"
      },
      "source": [
        "data_train"
      ],
      "execution_count": 26,
      "outputs": [
        {
          "output_type": "execute_result",
          "data": {
            "text/html": [
              "<div>\n",
              "<style scoped>\n",
              "    .dataframe tbody tr th:only-of-type {\n",
              "        vertical-align: middle;\n",
              "    }\n",
              "\n",
              "    .dataframe tbody tr th {\n",
              "        vertical-align: top;\n",
              "    }\n",
              "\n",
              "    .dataframe thead th {\n",
              "        text-align: right;\n",
              "    }\n",
              "</style>\n",
              "<table border=\"1\" class=\"dataframe\">\n",
              "  <thead>\n",
              "    <tr style=\"text-align: right;\">\n",
              "      <th></th>\n",
              "      <th>path</th>\n",
              "      <th>class</th>\n",
              "    </tr>\n",
              "  </thead>\n",
              "  <tbody>\n",
              "    <tr>\n",
              "      <th>0</th>\n",
              "      <td>cat.5214.jpg</td>\n",
              "      <td>0</td>\n",
              "    </tr>\n",
              "    <tr>\n",
              "      <th>1</th>\n",
              "      <td>dog.3971.jpg</td>\n",
              "      <td>1</td>\n",
              "    </tr>\n",
              "    <tr>\n",
              "      <th>2</th>\n",
              "      <td>dog.6780.jpg</td>\n",
              "      <td>1</td>\n",
              "    </tr>\n",
              "    <tr>\n",
              "      <th>3</th>\n",
              "      <td>cat.3816.jpg</td>\n",
              "      <td>0</td>\n",
              "    </tr>\n",
              "    <tr>\n",
              "      <th>4</th>\n",
              "      <td>dog.581.jpg</td>\n",
              "      <td>1</td>\n",
              "    </tr>\n",
              "    <tr>\n",
              "      <th>...</th>\n",
              "      <td>...</td>\n",
              "      <td>...</td>\n",
              "    </tr>\n",
              "    <tr>\n",
              "      <th>24995</th>\n",
              "      <td>dog.7572.jpg</td>\n",
              "      <td>1</td>\n",
              "    </tr>\n",
              "    <tr>\n",
              "      <th>24996</th>\n",
              "      <td>dog.10562.jpg</td>\n",
              "      <td>1</td>\n",
              "    </tr>\n",
              "    <tr>\n",
              "      <th>24997</th>\n",
              "      <td>dog.4911.jpg</td>\n",
              "      <td>1</td>\n",
              "    </tr>\n",
              "    <tr>\n",
              "      <th>24998</th>\n",
              "      <td>cat.10.jpg</td>\n",
              "      <td>0</td>\n",
              "    </tr>\n",
              "    <tr>\n",
              "      <th>24999</th>\n",
              "      <td>dog.9686.jpg</td>\n",
              "      <td>1</td>\n",
              "    </tr>\n",
              "  </tbody>\n",
              "</table>\n",
              "<p>25000 rows × 2 columns</p>\n",
              "</div>"
            ],
            "text/plain": [
              "                path class\n",
              "0       cat.5214.jpg     0\n",
              "1       dog.3971.jpg     1\n",
              "2       dog.6780.jpg     1\n",
              "3       cat.3816.jpg     0\n",
              "4        dog.581.jpg     1\n",
              "...              ...   ...\n",
              "24995   dog.7572.jpg     1\n",
              "24996  dog.10562.jpg     1\n",
              "24997   dog.4911.jpg     1\n",
              "24998     cat.10.jpg     0\n",
              "24999   dog.9686.jpg     1\n",
              "\n",
              "[25000 rows x 2 columns]"
            ]
          },
          "metadata": {
            "tags": []
          },
          "execution_count": 26
        }
      ]
    },
    {
      "cell_type": "code",
      "metadata": {
        "id": "c-cr_S-a8rKL"
      },
      "source": [
        "from sklearn.model_selection import train_test_split\r\n",
        "\r\n",
        "\r\n",
        "train_data, valid_data = train_test_split(data_train, test_size=0.2, random_state = 42)\r\n",
        "train_data = train_data.reset_index(drop=True)\r\n",
        "valid_data = valid_data.reset_index(drop=True)"
      ],
      "execution_count": 24,
      "outputs": []
    },
    {
      "cell_type": "code",
      "metadata": {
        "colab": {
          "base_uri": "https://localhost:8080/"
        },
        "id": "4lCbNMno9Nx6",
        "outputId": "1942bbed-07ed-41b8-a7c4-0f0fd576bd12"
      },
      "source": [
        "datagen = ImageDataGenerator(\r\n",
        "    featurewise_center=True,\r\n",
        "    featurewise_std_normalization=True,\r\n",
        "    rotation_range=20,\r\n",
        "    width_shift_range=0.2,\r\n",
        "    height_shift_range=0.2,\r\n",
        "    horizontal_flip=True)\r\n",
        "\r\n",
        "\r\n",
        "\r\n",
        "\r\n",
        "train_generator = datagen.flow_from_dataframe(\r\n",
        "    train_data, \r\n",
        "    \"train/train\", \r\n",
        "    x_col='path',\r\n",
        "    y_col='class',\r\n",
        "    target_size=(224,224),\r\n",
        "    class_mode='categorical',\r\n",
        "    batch_size=32\r\n",
        ")"
      ],
      "execution_count": 28,
      "outputs": [
        {
          "output_type": "stream",
          "text": [
            "Found 20000 validated image filenames belonging to 2 classes.\n"
          ],
          "name": "stdout"
        }
      ]
    },
    {
      "cell_type": "code",
      "metadata": {
        "colab": {
          "base_uri": "https://localhost:8080/"
        },
        "id": "gpYZYBIyckKh",
        "outputId": "79396787-c38d-4251-f238-07afae6150c9"
      },
      "source": [
        "test_gen = ImageDataGenerator(rescale=1./255)\r\n",
        "test_generator = test_gen.flow_from_dataframe(\r\n",
        "    data_test, \r\n",
        "    \"test/test\", \r\n",
        "    x_col='path',\r\n",
        "    y_col=None,\r\n",
        "    class_mode=None,\r\n",
        "    target_size=(224,224),\r\n",
        "    batch_size=32,\r\n",
        "    shuffle=False\r\n",
        ")"
      ],
      "execution_count": 42,
      "outputs": [
        {
          "output_type": "stream",
          "text": [
            "Found 12500 validated image filenames.\n"
          ],
          "name": "stdout"
        }
      ]
    },
    {
      "cell_type": "code",
      "metadata": {
        "colab": {
          "base_uri": "https://localhost:8080/"
        },
        "id": "wjskXF7N_7--",
        "outputId": "6e6380bc-8319-45c4-e95f-456d96d9117f"
      },
      "source": [
        "valid_data_gen = ImageDataGenerator(rescale=1./255)\r\n",
        "\r\n",
        "valid_generator = valid_data_gen.flow_from_dataframe(valid_data, \r\n",
        "    \"train/train\", \r\n",
        "    x_col='path',\r\n",
        "    y_col='class',\r\n",
        "    target_size=(224,224),\r\n",
        "    class_mode='categorical',\r\n",
        "    batch_size=32\r\n",
        ")"
      ],
      "execution_count": 29,
      "outputs": [
        {
          "output_type": "stream",
          "text": [
            "Found 5000 validated image filenames belonging to 2 classes.\n"
          ],
          "name": "stdout"
        }
      ]
    },
    {
      "cell_type": "code",
      "metadata": {
        "id": "qztyTHyJm7ls"
      },
      "source": [
        "# datagen = ImageDataGenerator(\r\n",
        "#     featurewise_center=True,\r\n",
        "#     featurewise_std_normalization=True,\r\n",
        "#     rotation_range=20,\r\n",
        "#     width_shift_range=0.2,\r\n",
        "#     height_shift_range=0.2,\r\n",
        "#     horizontal_flip=True)\r\n",
        "\r\n",
        "# def aug(el):\r\n",
        "#   el = load_image(el)\r\n",
        "#   samples = np.expand_dims(el, 0)\r\n",
        "#   it = datagen.flow(samples, batch_size=1)\r\n",
        "#   batch = it.next()\r\n",
        "#   return batch\r\n",
        "\r\n",
        "# def prepare(files):\r\n",
        "  \r\n",
        "#     for i in range(int(len(files)/32)+1):\r\n",
        "#       a = 32\r\n",
        "#       try:\r\n",
        "#         # x = []\r\n",
        "#         # y = []\r\n",
        "#         sl = files[a*i:a*(i+1)]\r\n",
        "#         x = np.array([load_image(_) for _ in sl])\r\n",
        "#         y = np.array([1 if os.path.basename(_).startswith('dog') else 0 for _ in sl])\r\n",
        "#         # for s in range(len(x)):\r\n",
        "#         #   for t in range(2):\r\n",
        "#         #     x1 = np.concatenate((x, aug(x[s])), axis=0)\r\n",
        "#         #     y1 = np.concatenate((y, (1 if os.path.basename(x[s]).startswith('dog') else 0)), axis=0)\r\n",
        "#         # x = np.asarray(x).astype(np.float32)\r\n",
        "#         # y = np.asarray(y).astype(np.float32)\r\n",
        "#       except:\r\n",
        "#         x = []\r\n",
        "#         y = []\r\n",
        "#         # sl = train_files[a*i:]\r\n",
        "#         # for _ in range(len(sl)):\r\n",
        "#           # x.append(load_image(sl[_]))\r\n",
        "#           # y.append([1 if os.path.basename(sl[_]).startswith('dog') else 0][0])\r\n",
        "#           # for t in range(9):\r\n",
        "#             # x.append(aug(sl[_]))\r\n",
        "#             # y.append([1 if os.path.basename(sl[_]).startswith('dog') else 0][0])\r\n",
        "        \r\n",
        "#         x = np.asarray(x).astype(np.float32) \r\n",
        "#         y = np.asarray(y).astype(np.float32) \r\n",
        "#       yield(x, y)"
      ],
      "execution_count": 5,
      "outputs": []
    },
    {
      "cell_type": "markdown",
      "metadata": {
        "id": "wmACLjQXSYov"
      },
      "source": [
        "## Загружаем предобученную модель"
      ]
    },
    {
      "cell_type": "code",
      "metadata": {
        "id": "BZuxpjWrSYov",
        "colab": {
          "base_uri": "https://localhost:8080/"
        },
        "outputId": "d5e6c0d5-38ef-4bc2-c5a6-5f74b5d7be12"
      },
      "source": [
        "# base_model - объект класса keras.models.Model (Functional Model)\n",
        "base_model = vgg16.VGG16(weights='imagenet',\n",
        "                         include_top=False,\n",
        "                         input_shape=(IMG_SIZE[0], IMG_SIZE[1], 3))"
      ],
      "execution_count": 33,
      "outputs": [
        {
          "output_type": "stream",
          "text": [
            "Downloading data from https://storage.googleapis.com/tensorflow/keras-applications/vgg16/vgg16_weights_tf_dim_ordering_tf_kernels_notop.h5\n",
            "58892288/58889256 [==============================] - 0s 0us/step\n"
          ],
          "name": "stdout"
        }
      ]
    },
    {
      "cell_type": "code",
      "metadata": {
        "id": "tDjSAxPFSYov"
      },
      "source": [
        "# base_model.summary()"
      ],
      "execution_count": null,
      "outputs": []
    },
    {
      "cell_type": "markdown",
      "metadata": {
        "id": "-JorlyZFSYow"
      },
      "source": [
        "## Добавляем полносвязный слой"
      ]
    },
    {
      "cell_type": "code",
      "metadata": {
        "colab": {
          "base_uri": "https://localhost:8080/"
        },
        "id": "pqC85mHuykm7",
        "outputId": "f2fe5788-54c8-46e6-d669-1d2d76e67fc3"
      },
      "source": [
        "\r\n",
        "tf.keras.layers.Flatten()(base_model.layers[-5].output)"
      ],
      "execution_count": 34,
      "outputs": [
        {
          "output_type": "execute_result",
          "data": {
            "text/plain": [
              "<KerasTensor: shape=(None, 100352) dtype=float32 (created by layer 'flatten_1')>"
            ]
          },
          "metadata": {
            "tags": []
          },
          "execution_count": 34
        }
      ]
    },
    {
      "cell_type": "code",
      "metadata": {
        "id": "BoEfWg12SYow"
      },
      "source": [
        "# фиксируем все веса предобученной сети\n",
        "for layer in base_model.layers:\n",
        "    layer.trainable = False\n",
        "\n",
        "x = base_model.layers[-5].output\n",
        "x = tf.keras.layers.Flatten()(x)\n",
        "x = tf.keras.layers.Dense(1,  # один выход (бинарная классификация)\n",
        "                          activation='sigmoid',  # функция активации  \n",
        "                          kernel_regularizer=tf.keras.regularizers.l1(1e-4))(x)\n",
        "\n",
        "model = tf.keras.Model(inputs=base_model.input, outputs=x, name='dogs_vs_cats')"
      ],
      "execution_count": 35,
      "outputs": []
    },
    {
      "cell_type": "markdown",
      "metadata": {
        "id": "uAtFWOxhSYow"
      },
      "source": [
        "## Выводим архитектуру модели"
      ]
    },
    {
      "cell_type": "code",
      "metadata": {
        "id": "3sCNcbDTSYow"
      },
      "source": [
        "# model.summary()"
      ],
      "execution_count": null,
      "outputs": []
    },
    {
      "cell_type": "markdown",
      "metadata": {
        "id": "r6maiEYCSYox"
      },
      "source": [
        "## Компилируем модель и запускаем обучение"
      ]
    },
    {
      "cell_type": "code",
      "metadata": {
        "id": "TrDTeckTSYox"
      },
      "source": [
        "model.compile(optimizer='adam', \n",
        "              loss='binary_crossentropy',  # функция потерь binary_crossentropy (log loss\n",
        "              metrics=['accuracy'])"
      ],
      "execution_count": 36,
      "outputs": []
    },
    {
      "cell_type": "code",
      "metadata": {
        "id": "lgrpPVu29oA4",
        "colab": {
          "base_uri": "https://localhost:8080/"
        },
        "outputId": "79d44a97-8efc-4b21-c6f3-dbfcaec12715"
      },
      "source": [
        "# model.fit(next(train_data)[0], next(train_data)[1],\r\n",
        "#           steps_per_epoch=10, epochs=100, validation_split=0.1)\r\n",
        "\r\n",
        "model.fit(train_generator, epochs=20, validation_data=valid_generator)"
      ],
      "execution_count": 41,
      "outputs": [
        {
          "output_type": "stream",
          "text": [
            "/usr/local/lib/python3.7/dist-packages/keras_preprocessing/image/image_data_generator.py:720: UserWarning: This ImageDataGenerator specifies `featurewise_center`, but it hasn't been fit on any training data. Fit it first by calling `.fit(numpy_data)`.\n",
            "  warnings.warn('This ImageDataGenerator specifies '\n",
            "/usr/local/lib/python3.7/dist-packages/keras_preprocessing/image/image_data_generator.py:728: UserWarning: This ImageDataGenerator specifies `featurewise_std_normalization`, but it hasn't been fit on any training data. Fit it first by calling `.fit(numpy_data)`.\n",
            "  warnings.warn('This ImageDataGenerator specifies '\n"
          ],
          "name": "stderr"
        },
        {
          "output_type": "stream",
          "text": [
            "Epoch 1/20\n",
            "625/625 [==============================] - 281s 450ms/step - loss: 361.0115 - accuracy: 0.5000 - val_loss: 5.0944 - val_accuracy: 0.5000\n",
            "Epoch 2/20\n",
            "625/625 [==============================] - 288s 461ms/step - loss: 386.3846 - accuracy: 0.5000 - val_loss: 5.0964 - val_accuracy: 0.5000\n",
            "Epoch 3/20\n",
            "625/625 [==============================] - 284s 455ms/step - loss: 406.7425 - accuracy: 0.5000 - val_loss: 6.3987 - val_accuracy: 0.5000\n",
            "Epoch 4/20\n",
            "625/625 [==============================] - 280s 448ms/step - loss: 408.4868 - accuracy: 0.5000 - val_loss: 6.7416 - val_accuracy: 0.5000\n",
            "Epoch 5/20\n",
            "625/625 [==============================] - 283s 454ms/step - loss: 415.2978 - accuracy: 0.5000 - val_loss: 7.9928 - val_accuracy: 0.5000\n",
            "Epoch 6/20\n",
            "625/625 [==============================] - 280s 449ms/step - loss: 430.8585 - accuracy: 0.5000 - val_loss: 5.8024 - val_accuracy: 0.5000\n",
            "Epoch 7/20\n",
            "625/625 [==============================] - 272s 435ms/step - loss: 427.2626 - accuracy: 0.5000 - val_loss: 5.9535 - val_accuracy: 0.5000\n",
            "Epoch 8/20\n",
            "625/625 [==============================] - 259s 414ms/step - loss: 426.1139 - accuracy: 0.5000 - val_loss: 6.3117 - val_accuracy: 0.5000\n",
            "Epoch 9/20\n",
            "625/625 [==============================] - 269s 430ms/step - loss: 437.2268 - accuracy: 0.5000 - val_loss: 6.0525 - val_accuracy: 0.5000\n",
            "Epoch 10/20\n",
            "625/625 [==============================] - 284s 455ms/step - loss: 450.7705 - accuracy: 0.5000 - val_loss: 6.6481 - val_accuracy: 0.5000\n",
            "Epoch 11/20\n",
            "625/625 [==============================] - 290s 465ms/step - loss: 450.1099 - accuracy: 0.5000 - val_loss: 6.9875 - val_accuracy: 0.5000\n",
            "Epoch 12/20\n",
            "625/625 [==============================] - 286s 457ms/step - loss: 453.0420 - accuracy: 0.5000 - val_loss: 6.4440 - val_accuracy: 0.5000\n",
            "Epoch 13/20\n",
            "625/625 [==============================] - 286s 458ms/step - loss: 457.5859 - accuracy: 0.5000 - val_loss: 6.4955 - val_accuracy: 0.5000\n",
            "Epoch 14/20\n",
            "625/625 [==============================] - 287s 458ms/step - loss: 456.3155 - accuracy: 0.5000 - val_loss: 6.3362 - val_accuracy: 0.5000\n",
            "Epoch 15/20\n",
            "625/625 [==============================] - 288s 461ms/step - loss: 469.0179 - accuracy: 0.5000 - val_loss: 6.1556 - val_accuracy: 0.5000\n",
            "Epoch 16/20\n",
            "625/625 [==============================] - 289s 463ms/step - loss: 457.4869 - accuracy: 0.5000 - val_loss: 6.3349 - val_accuracy: 0.5000\n",
            "Epoch 17/20\n",
            "625/625 [==============================] - 291s 466ms/step - loss: 444.1226 - accuracy: 0.5000 - val_loss: 6.1856 - val_accuracy: 0.5000\n",
            "Epoch 18/20\n",
            "625/625 [==============================] - 293s 470ms/step - loss: 452.4073 - accuracy: 0.5000 - val_loss: 5.8933 - val_accuracy: 0.5000\n",
            "Epoch 19/20\n",
            "625/625 [==============================] - 297s 475ms/step - loss: 448.8724 - accuracy: 0.5000 - val_loss: 6.0312 - val_accuracy: 0.5000\n",
            "Epoch 20/20\n",
            "625/625 [==============================] - 292s 467ms/step - loss: 455.4029 - accuracy: 0.5000 - val_loss: 6.1194 - val_accuracy: 0.5000\n"
          ],
          "name": "stdout"
        },
        {
          "output_type": "execute_result",
          "data": {
            "text/plain": [
              "<tensorflow.python.keras.callbacks.History at 0x7fbb8a74e7d0>"
            ]
          },
          "metadata": {
            "tags": []
          },
          "execution_count": 41
        }
      ]
    },
    {
      "cell_type": "code",
      "metadata": {
        "id": "dCe1GYHISYoy"
      },
      "source": [
        "model.save('cats-dogs-vgg16 (large).hdf5')"
      ],
      "execution_count": null,
      "outputs": []
    },
    {
      "cell_type": "markdown",
      "metadata": {
        "id": "FjNKKs1PSYoy"
      },
      "source": [
        "## Предсказания на проверочной выборке"
      ]
    },
    {
      "cell_type": "code",
      "metadata": {
        "id": "sWo0ToB3SYoy"
      },
      "source": [
        "# test_pred = model.predict(\n",
        "#     predict_generator(test_files), steps=len(test_files))\n",
        "test_data = prepare(test_files)\n",
        "test_pred = model.predict(next(test_data)[0])"
      ],
      "execution_count": null,
      "outputs": []
    },
    {
      "cell_type": "code",
      "metadata": {
        "colab": {
          "base_uri": "https://localhost:8080/"
        },
        "id": "qTDHghQWc-bp",
        "outputId": "d2c7b7e4-7a62-4718-de25-27e566e83d47"
      },
      "source": [
        "predict = model.predict(test_generator, steps=np.ceil(data_test.shape[0]/15))"
      ],
      "execution_count": 45,
      "outputs": [
        {
          "output_type": "stream",
          "text": [
            "WARNING:tensorflow:Your input ran out of data; interrupting training. Make sure that your dataset or generator can generate at least `steps_per_epoch * epochs` batches (in this case, 834.0 batches). You may need to use the repeat() function when building your dataset.\n"
          ],
          "name": "stdout"
        }
      ]
    },
    {
      "cell_type": "code",
      "metadata": {
        "id": "ofK-bw9fdZbg"
      },
      "source": [
        "data_test['class'] = np.argmax(predict, axis=-1)\r\n"
      ],
      "execution_count": 46,
      "outputs": []
    },
    {
      "cell_type": "code",
      "metadata": {
        "id": "j18xrYQFdw1D"
      },
      "source": [
        "label_map = dict((v,k) for k,v in train_generator.class_indices.items())\r\n",
        "data_test['class'] = data_test['class'].replace(label_map)"
      ],
      "execution_count": 47,
      "outputs": []
    },
    {
      "cell_type": "code",
      "metadata": {
        "id": "ckfHCxQJd-GQ"
      },
      "source": [
        "data_test['class'] = data_test['class'].replace({ 'dog': 1, 'cat': 0 })\r\n"
      ],
      "execution_count": 48,
      "outputs": []
    },
    {
      "cell_type": "code",
      "metadata": {
        "id": "SfXpZ3r7eEpR"
      },
      "source": [
        "submission_df = data_test.copy()\r\n",
        "submission_df['id'] = submission_df['path'].str.split('.').str[0]\r\n",
        "submission_df['label'] = submission_df['class']\r\n",
        "submission_df.drop(['path', 'class'], axis=1, inplace=True)\r\n",
        "submission_df.to_csv('submission.csv', index=False)"
      ],
      "execution_count": 49,
      "outputs": []
    }
  ]
}